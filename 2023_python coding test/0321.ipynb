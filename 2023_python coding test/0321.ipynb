{
  "nbformat": 4,
  "nbformat_minor": 0,
  "metadata": {
    "colab": {
      "provenance": [],
      "authorship_tag": "ABX9TyMHbcvvijIY2DpoPQdeiHW3",
      "include_colab_link": true
    },
    "kernelspec": {
      "name": "python3",
      "display_name": "Python 3"
    },
    "language_info": {
      "name": "python"
    }
  },
  "cells": [
    {
      "cell_type": "markdown",
      "metadata": {
        "id": "view-in-github",
        "colab_type": "text"
      },
      "source": [
        "<a href=\"https://colab.research.google.com/github/eiloppang/-/blob/main/0321.ipynb\" target=\"_parent\"><img src=\"https://colab.research.google.com/assets/colab-badge.svg\" alt=\"Open In Colab\"/></a>"
      ]
    },
    {
      "cell_type": "code",
      "execution_count": null,
      "metadata": {
        "id": "c-FXSTORK8ym"
      },
      "outputs": [],
      "source": [
        "# 프로그래머스 최솟값\n",
        "def solution(A, B):\n",
        "  answer = 0\n",
        "  A.sort() # 오름차순\n",
        "  B.sort(reverse = True) # 내림차순\n",
        "  for i in range(len(A)):\n",
        "    answer = answer + (A[i] * B[i])\n",
        "\n",
        "  return answer\n",
        "\n",
        "\n",
        "print(solution([1,4,2],[5,4,4]))"
      ]
    }
  ]
}
