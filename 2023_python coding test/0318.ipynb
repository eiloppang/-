{
  "nbformat": 4,
  "nbformat_minor": 0,
  "metadata": {
    "colab": {
      "provenance": []
    },
    "kernelspec": {
      "name": "python3",
      "display_name": "Python 3"
    },
    "language_info": {
      "name": "python"
    }
  },
  "cells": [
    {
      "cell_type": "code",
      "source": [
        "# 백준 2588번\n",
        "A = int(input())\n",
        "B = input()\n",
        "\n",
        "x = A*int(B[2])\n",
        "y = A*int(B[1])\n",
        "z = A*int(B[0])\n",
        "sum = x + 10*y + 100*z\n",
        "\n",
        "print(x, y, z, sum, sep=\"\\n\")"
      ],
      "metadata": {
        "id": "cWFLOPIODlFX"
      },
      "execution_count": null,
      "outputs": []
    },
    {
      "cell_type": "code",
      "source": [
        "# 백준 11382번\n",
        "A, B, C = map(int, input().split())\n",
        "print(A+B+C)"
      ],
      "metadata": {
        "id": "7ppwjcaoDlyw"
      },
      "execution_count": null,
      "outputs": []
    },
    {
      "cell_type": "code",
      "source": [
        "# 백준 10171번\n",
        "print(\"\\\\    /\\\\\")\n",
        "print(\" )  ( \\')\")\n",
        "print(\"(  /  )\")\n",
        "print(\" \\\\(__)|\")\n",
        "\n",
        "# 백준 10172번\n",
        "print(\"|\\\\_/|\")\n",
        "print(\"|q p|   /}\")\n",
        "print(\"( 0 )\\\"\\\"\\\"\\\\\")\n",
        "print(\"|\\\"^\\\"`    |\")\n",
        "print(\"||_/=\\\\\\\\__|\")"
      ],
      "metadata": {
        "id": "8yACzzH3Dng9"
      },
      "execution_count": null,
      "outputs": []
    },
    {
      "cell_type": "code",
      "source": [
        "# 백준 1330번\n",
        "A, B = map(int, input().split())\n",
        "if(A > B):\n",
        "  print(\">\")\n",
        "elif(A < B):\n",
        "  print(\"<\")\n",
        "else:\n",
        "  print(\"==\")"
      ],
      "metadata": {
        "id": "17UpcFwHDrJd"
      },
      "execution_count": null,
      "outputs": []
    },
    {
      "cell_type": "code",
      "source": [
        "# 백준 9498번\n",
        "test = int(input())\n",
        "if(test <= 100 and test >= 90):\n",
        "  print(\"A\")\n",
        "elif(test <= 89 and test >= 80):\n",
        "  print(\"B\")\n",
        "elif(test <= 79 and test >= 70):\n",
        "  print(\"C\")\n",
        "elif(test <= 69 and test >= 60):\n",
        "  print(\"D\")\n",
        "else:\n",
        "  print(\"F\")"
      ],
      "metadata": {
        "id": "RxRHHJOdDsov"
      },
      "execution_count": null,
      "outputs": []
    },
    {
      "cell_type": "code",
      "source": [
        "# 백준 2753번\n",
        "year = int(input())\n",
        "if((year%4==0 and year%100 != 0) or year%400==0):\n",
        "  print(\"1\")\n",
        "else:\n",
        "  print(\"0\")"
      ],
      "metadata": {
        "id": "eetQ_8qrDuPE"
      },
      "execution_count": null,
      "outputs": []
    },
    {
      "cell_type": "code",
      "source": [
        "# 백준 14681번\n",
        "x = int(input())\n",
        "y = int(input())\n",
        "\n",
        "if(x > 0):\n",
        "  if(y > 0):\n",
        "    print(\"1\")\n",
        "  elif(y < 0):\n",
        "    print(\"4\")\n",
        "elif(x < 0):\n",
        "  if(y > 0):\n",
        "    print(\"2\")\n",
        "  elif(y < 0):\n",
        "    print(\"3\")"
      ],
      "metadata": {
        "id": "CdqxF8J8Dww4"
      },
      "execution_count": null,
      "outputs": []
    },
    {
      "cell_type": "code",
      "source": [
        "# 백준 2884\n",
        "H, M = map(int, input().split())\n",
        "M = M - 45\n",
        "if(M < 0):\n",
        "  M = M + 60\n",
        "  H = H - 1\n",
        "  if(H < 0):\n",
        "    H = H + 24\n",
        "\n",
        "print(H, M)"
      ],
      "metadata": {
        "id": "uSEGjoPwDyS2"
      },
      "execution_count": null,
      "outputs": []
    },
    {
      "cell_type": "code",
      "source": [
        "# 백준 2525번\n",
        "A, B = map(int, input().split())\n",
        "C = int(input())\n",
        "B = B + C\n",
        "if(B >= 60):\n",
        "  A = A + B // 60\n",
        "  B = B % 60\n",
        "  if(A >= 24):\n",
        "    A = A - 24\n",
        "\n",
        "print(A, B)"
      ],
      "metadata": {
        "id": "MWbUk4rHDzvK"
      },
      "execution_count": null,
      "outputs": []
    },
    {
      "cell_type": "code",
      "source": [
        "# 백준 2480번\n",
        "A, B, C = map(int, input().split())\n",
        "if(A == B and A == C and B == C):\n",
        "  print(10000 + A*1000)\n",
        "elif(A == B and B != C and A != C):\n",
        "  print(1000 + A*100)\n",
        "elif(A == C and B != C and A != B):\n",
        "  print(1000 + A*100)\n",
        "elif(B == C and A != B and A != C):\n",
        "  print(1000 + B*100)\n",
        "elif(A != B and A != C and B != C):\n",
        "  maxValue = max(A, B, C)\n",
        "  print(maxValue*100)\n",
        "\n",
        "  # 다른 답안 찾아보니까 굳이 저렇게 위에처럼 강한 조건 주지 않아도 될 듯.."
      ],
      "metadata": {
        "id": "vua1F979D1hE"
      },
      "execution_count": null,
      "outputs": []
    },
    {
      "cell_type": "code",
      "source": [
        "# 백준 2739번\n",
        "N = int(input())\n",
        "for k in range (1, 10):\n",
        "  print(N, \"*\", k, \"=\", N*k)"
      ],
      "metadata": {
        "id": "0Km8_l_eD2sG"
      },
      "execution_count": null,
      "outputs": []
    },
    {
      "cell_type": "code",
      "source": [
        "# 백준 10950번\n",
        "T = int(input())\n",
        "for k in range(1, T+1):\n",
        "  A, B = map(int, input().split())\n",
        "  print(A + B)"
      ],
      "metadata": {
        "id": "Tz0OVlZtD35X"
      },
      "execution_count": null,
      "outputs": []
    },
    {
      "cell_type": "code",
      "source": [
        "# 백준 8393번\n",
        "n = int(input())\n",
        "sum = 0 # 초기화 안 하면 계속 플러스 됨\n",
        "for k in range(1, n+1):\n",
        "  sum = sum + k\n",
        "print(sum)"
      ],
      "metadata": {
        "id": "aHNWJE2ZD5IY"
      },
      "execution_count": null,
      "outputs": []
    },
    {
      "cell_type": "code",
      "source": [
        "# 백준 25304번\n",
        "X = int(input())\n",
        "N = int(input())\n",
        "sum = 0\n",
        "for k in range(1, N+1):\n",
        "  a, b = map(int, input().split())\n",
        "  sum = a*b + sum\n",
        "if(X == sum):\n",
        "  print(\"Yes\")\n",
        "else:\n",
        "  print(\"No\")"
      ],
      "metadata": {
        "id": "o7fo4BRhD6Yn"
      },
      "execution_count": null,
      "outputs": []
    },
    {
      "cell_type": "code",
      "source": [
        "# 백준 25314번 (문자열 사용 주의)\n",
        "N = int(input())\n",
        "printing = \"int\"\n",
        "for k in range((N//4)):\n",
        "  printing = \"long\" + \" \" + printing\n",
        "print(printing)"
      ],
      "metadata": {
        "id": "lcFDMsC4D73z"
      },
      "execution_count": null,
      "outputs": []
    },
    {
      "cell_type": "code",
      "source": [
        "# 백준 11021번\n",
        "T = int(input())\n",
        "for k in range(1, T+1):\n",
        "  A, B = map(int, input().split())\n",
        "  print('Case #%d: %d' %(k, (A+B)))"
      ],
      "metadata": {
        "colab": {
          "base_uri": "https://localhost:8080/"
        },
        "id": "_Yp4Cp_8D9OK",
        "outputId": "0238c9b6-6c05-4579-dd61-93a5da6e9972"
      },
      "execution_count": null,
      "outputs": [
        {
          "output_type": "stream",
          "name": "stdout",
          "text": [
            "5\n",
            "1 1\n",
            "Case #1: 2\n",
            "2 3\n",
            "Case #2: 5\n",
            "3 4\n",
            "Case #3: 7\n",
            "9 8\n",
            "Case #4: 17\n",
            "5 2\n",
            "Case #5: 7\n"
          ]
        }
      ]
    },
    {
      "cell_type": "code",
      "source": [
        "# 백준 11022번\n",
        "T = int(input())\n",
        "for k in range(1, T+1):\n",
        "  A, B = map(int, input().split())\n",
        "  print('Case #%d: %d + %d = %d' %(k, A, B, (A+B)))"
      ],
      "metadata": {
        "colab": {
          "base_uri": "https://localhost:8080/"
        },
        "id": "5bPKs5FCE7fK",
        "outputId": "e37da767-278e-4e6f-c96c-ec4ce1687198"
      },
      "execution_count": null,
      "outputs": [
        {
          "output_type": "stream",
          "name": "stdout",
          "text": [
            "5\n",
            "1 1\n",
            "Case #1: 1 + 1 = 2\n",
            "2 3\n",
            "Case #2: 2 + 3 = 5\n",
            "3 4\n",
            "Case #3: 3 + 4 = 7\n",
            "9 8\n",
            "Case #4: 9 + 8 = 17\n",
            "5 2\n",
            "Case #5: 5 + 2 = 7\n"
          ]
        }
      ]
    },
    {
      "cell_type": "code",
      "source": [
        "# 백준 26082번 (서강대 프로그래밍 테스트 2022)\n",
        "A, B, C = map(int, input().split())\n",
        "CompletePrice = int(B/A)\n",
        "WARBOYPerformance = 3 * CompletePrice * C\n",
        "print(WARBOYPerformance) "
      ],
      "metadata": {
        "colab": {
          "base_uri": "https://localhost:8080/"
        },
        "id": "wLmWksszF3oV",
        "outputId": "15cf96e4-05f6-4cd0-b7c9-aa0c0862b569"
      },
      "execution_count": null,
      "outputs": [
        {
          "output_type": "stream",
          "name": "stdout",
          "text": [
            "10 200 7\n",
            "420\n"
          ]
        }
      ]
    },
    {
      "cell_type": "code",
      "source": [
        "# 백준 26083번 (서강대 프로그래밍 테스트 2022) 수정 중\n",
        "leapOrCommon = [\n",
        "    [0, 31, 29, 31, 30, 31, 30, 31, 31, 30, 31, 30, 31],\n",
        "    [0, 31, 28, 31, 30, 31, 30, 31, 31, 30, 31, 30, 31]\n",
        "]\n",
        "\n",
        "def solve():\n",
        "  def check(y, m, d):\n",
        "    return (y, m, d) >= (Y, M, D) if 1 <= m <= 12 and 1 <= d <= leapOrCommon[1 if(y%4) else 0][m] else -1\n",
        "\n",
        "  SafeList = []\n",
        "  for line in ABC:\n",
        "    A, B, C = map(int, line.split())\n",
        "    checkList = [check(A, B, C), check(C, B, A), check(B, C, A)]\n",
        "    if(checkList == [-1, -1, -1]):\n",
        "      SafeList.append(\"invalid\")\n",
        "    elif(False in checkList):\n",
        "      SafeList.append(\"unsafe\")\n",
        "    else:\n",
        "      SafeList.append(\"safe\")\n",
        "  return '\\n'.join(SafeList)\n",
        "\n",
        "Y, M, D = map(int, input().split())\n",
        "N = int(input())\n",
        "\n",
        "for k in range(1, N):\n",
        "  ABC =  ABC + [input().split()] # 앞 부분이 리스트에 저장이 안 되는데\n",
        "  print(solve())"
      ],
      "metadata": {
        "id": "-3Mvi9lKI6jM",
        "colab": {
          "base_uri": "https://localhost:8080/",
          "height": 281
        },
        "outputId": "c4dccffe-9dec-4f2a-9d03-e21478c9b72b"
      },
      "execution_count": null,
      "outputs": [
        {
          "name": "stdout",
          "output_type": "stream",
          "text": [
            "22 11 26\n",
            "22 11 30\n"
          ]
        },
        {
          "output_type": "error",
          "ename": "ValueError",
          "evalue": "ignored",
          "traceback": [
            "\u001b[0;31m---------------------------------------------------------------------------\u001b[0m",
            "\u001b[0;31mValueError\u001b[0m                                Traceback (most recent call last)",
            "\u001b[0;32m<ipython-input-35-e8cb1fdcb6eb>\u001b[0m in \u001b[0;36m<module>\u001b[0;34m\u001b[0m\n\u001b[1;32m     22\u001b[0m \u001b[0;34m\u001b[0m\u001b[0m\n\u001b[1;32m     23\u001b[0m \u001b[0mY\u001b[0m\u001b[0;34m,\u001b[0m \u001b[0mM\u001b[0m\u001b[0;34m,\u001b[0m \u001b[0mD\u001b[0m \u001b[0;34m=\u001b[0m \u001b[0mmap\u001b[0m\u001b[0;34m(\u001b[0m\u001b[0mint\u001b[0m\u001b[0;34m,\u001b[0m \u001b[0minput\u001b[0m\u001b[0;34m(\u001b[0m\u001b[0;34m)\u001b[0m\u001b[0;34m.\u001b[0m\u001b[0msplit\u001b[0m\u001b[0;34m(\u001b[0m\u001b[0;34m)\u001b[0m\u001b[0;34m)\u001b[0m\u001b[0;34m\u001b[0m\u001b[0;34m\u001b[0m\u001b[0m\n\u001b[0;32m---> 24\u001b[0;31m \u001b[0mN\u001b[0m \u001b[0;34m=\u001b[0m \u001b[0mint\u001b[0m\u001b[0;34m(\u001b[0m\u001b[0minput\u001b[0m\u001b[0;34m(\u001b[0m\u001b[0;34m)\u001b[0m\u001b[0;34m)\u001b[0m\u001b[0;34m\u001b[0m\u001b[0;34m\u001b[0m\u001b[0m\n\u001b[0m\u001b[1;32m     25\u001b[0m \u001b[0;34m\u001b[0m\u001b[0m\n\u001b[1;32m     26\u001b[0m \u001b[0;32mfor\u001b[0m \u001b[0mk\u001b[0m \u001b[0;32min\u001b[0m \u001b[0mrange\u001b[0m\u001b[0;34m(\u001b[0m\u001b[0;36m1\u001b[0m\u001b[0;34m,\u001b[0m \u001b[0mN\u001b[0m\u001b[0;34m)\u001b[0m\u001b[0;34m:\u001b[0m\u001b[0;34m\u001b[0m\u001b[0;34m\u001b[0m\u001b[0m\n",
            "\u001b[0;31mValueError\u001b[0m: invalid literal for int() with base 10: '22 11 30'"
          ]
        }
      ]
    },
    {
      "cell_type": "markdown",
      "source": [],
      "metadata": {
        "id": "IeCwwA1GlSZH"
      }
    }
  ]
}