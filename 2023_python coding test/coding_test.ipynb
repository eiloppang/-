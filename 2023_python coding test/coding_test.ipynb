{
  "nbformat": 4,
  "nbformat_minor": 0,
  "metadata": {
    "colab": {
      "provenance": []
    },
    "kernelspec": {
      "name": "python3",
      "display_name": "Python 3"
    },
    "language_info": {
      "name": "python"
    }
  },
  "cells": [
    {
      "cell_type": "code",
      "execution_count": 10,
      "metadata": {
        "colab": {
          "base_uri": "https://localhost:8080/"
        },
        "id": "8ynAbepfCabK",
        "outputId": "6e0d2d55-a414-4b2c-8af6-43cc9d841182"
      },
      "outputs": [
        {
          "output_type": "stream",
          "name": "stdout",
          "text": [
            "A = 1\n",
            "B = 2\n",
            "3\n",
            "1 2\n",
            "3\n"
          ]
        }
      ],
      "source": [
        "# 백준 1000번 내가 푼 거 (결과값은 나오는데 valueError 떠서 이해가 안 됨)\n",
        "A = int(input('A = '))\n",
        "B = int(input('B = '))\n",
        "sum = A+B\n",
        "if((A > 0) and (B > 0 and B < 10)):\n",
        "  print(sum)\n",
        "else:\n",
        "  print(\"Error!\")\n",
        "\n",
        "# 백준 1000번 실제 문제 풀이 방법\n",
        "A, B = input().split() # split 이용해서 띄어쓰기 별로 자르기\n",
        "print(int(A)+int(B)) # int로 형변환 (그리고 논리연산자 and, or인 거 잊지 말기)"
      ]
    },
    {
      "cell_type": "code",
      "source": [
        "# 백준 1001번\n",
        "A, B = input().split()\n",
        "print(int(A)-int(B))"
      ],
      "metadata": {
        "colab": {
          "base_uri": "https://localhost:8080/"
        },
        "id": "wV9emcQFF0tC",
        "outputId": "a8a33858-2c85-444b-d0d1-3ef4b2fa279f"
      },
      "execution_count": 11,
      "outputs": [
        {
          "output_type": "stream",
          "name": "stdout",
          "text": [
            "3 2\n",
            "1\n"
          ]
        }
      ]
    },
    {
      "cell_type": "code",
      "source": [
        "# 백준 10998번\n",
        "A, B = input().split()\n",
        "print(int(A)*int(B))"
      ],
      "metadata": {
        "colab": {
          "base_uri": "https://localhost:8080/"
        },
        "id": "n_kr6dA7GI06",
        "outputId": "2e068541-527c-43f5-b826-bc0d8834b372"
      },
      "execution_count": 13,
      "outputs": [
        {
          "output_type": "stream",
          "name": "stdout",
          "text": [
            "3 4\n",
            "12\n"
          ]
        }
      ]
    },
    {
      "cell_type": "code",
      "source": [
        "# 백준 1008번\n",
        "# 나눗셈이니까 분모가 0이면 안 됨 (무한루프 돌아갈 수밖에 없음)\n",
        "A, B = input().split()\n",
        "if(int(B) > 0):\n",
        "  print(int(A)/int(B))\n",
        "else:\n",
        "  print(\"Error!\")"
      ],
      "metadata": {
        "colab": {
          "base_uri": "https://localhost:8080/"
        },
        "id": "qxm0vJ-9G2Zi",
        "outputId": "a429676c-8983-4ce7-ec99-228ccd156ed1"
      },
      "execution_count": 16,
      "outputs": [
        {
          "output_type": "stream",
          "name": "stdout",
          "text": [
            "4 5\n",
            "0.8\n"
          ]
        }
      ]
    },
    {
      "cell_type": "code",
      "source": [
        "# 백준 10869번\n",
        "import math\n",
        "A, B = input().split()\n",
        "print(int(A)+int(B))\n",
        "print(int(A)-int(B))\n",
        "print(int(A)*int(B))\n",
        "print(math.ceil(int(A)/int(B)))\n",
        "print(int(A)%int(B))\n",
        "\n",
        "# 백준 10869번 math 안 쓰는 방법\n",
        "A, B = input().split()\n",
        "print(int(A)+int(B))\n",
        "print(int(A)-int(B))\n",
        "print(int(A)*int(B))\n",
        "print(int(A)//int(B))\n",
        "print(int(A)%int(B))\n",
        "\n",
        "# 백준 10869번 map 사용 (map(function, iterable) == map(적용시킬 함수, 적용할 값들))\n",
        "A, B = map(int, input().split)\n",
        "print(A+B)\n",
        "print(A-B)\n",
        "print(A*B)\n",
        "print(A//B)\n",
        "print(A%B)"
      ],
      "metadata": {
        "colab": {
          "base_uri": "https://localhost:8080/"
        },
        "id": "0Ys50z4nHYMS",
        "outputId": "58af99cd-ec18-4099-a747-2dec5d1f7370"
      },
      "execution_count": 18,
      "outputs": [
        {
          "output_type": "stream",
          "name": "stdout",
          "text": [
            "7 3\n",
            "10\n",
            "4\n",
            "21\n",
            "3\n",
            "1\n"
          ]
        }
      ]
    },
    {
      "cell_type": "code",
      "source": [
        "# 백준 10926번\n",
        "nickname = input()\n",
        "print(nickname+'??!')"
      ],
      "metadata": {
        "colab": {
          "base_uri": "https://localhost:8080/"
        },
        "id": "Uhk-2ppIKOt6",
        "outputId": "b1a6f1bf-d8ba-4941-aefc-d62881a73679"
      },
      "execution_count": 19,
      "outputs": [
        {
          "output_type": "stream",
          "name": "stdout",
          "text": [
            "joonas\n",
            "joonas??!\n"
          ]
        }
      ]
    },
    {
      "cell_type": "code",
      "source": [
        "# 백준 18108번\n",
        "year = int(input())\n",
        "print(int(year)-543)"
      ],
      "metadata": {
        "colab": {
          "base_uri": "https://localhost:8080/"
        },
        "id": "zuiuXMZ3Lhs5",
        "outputId": "3739daad-463b-4b23-b88f-8b3603c9f5ee"
      },
      "execution_count": 20,
      "outputs": [
        {
          "output_type": "stream",
          "name": "stdout",
          "text": [
            "2541\n",
            "1998\n"
          ]
        }
      ]
    },
    {
      "cell_type": "code",
      "source": [
        "# 백준 10430번\n",
        "A, B, C = map(int, input().split())\n",
        "print((A+B)%C)\n",
        "print((A%C)+(B%C)%C)\n",
        "print((A*B)%C)\n",
        "print(((A%C)*(B%C))%C)\n",
        "\n",
        "# 백준 10430번\n",
        "A, B, C = map(int, input().split()) # split 함수 사용할 때 () 이거 사용 주의\n",
        "print((A+B)%C, ((A%C)+(B%C))%C, (A*B)%C, ((A%C)*(B%C))%C, sep='\\n') # 출력물들 사이에 해당하는 내용 넣을 수 있음"
      ],
      "metadata": {
        "colab": {
          "base_uri": "https://localhost:8080/"
        },
        "id": "nfsSoZ-lMwJx",
        "outputId": "30d8d636-ce9b-45ae-d08d-e065a89d0dca"
      },
      "execution_count": 23,
      "outputs": [
        {
          "output_type": "stream",
          "name": "stdout",
          "text": [
            "5 8 4\n",
            "1\n",
            "1\n",
            "0\n",
            "0\n"
          ]
        }
      ]
    }
  ]
}